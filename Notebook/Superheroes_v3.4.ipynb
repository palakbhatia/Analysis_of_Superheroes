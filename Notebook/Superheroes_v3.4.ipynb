{
 "cells": [
  {
   "cell_type": "markdown",
   "metadata": {},
   "source": [
    "### Import Required Libraries"
   ]
  },
  {
   "cell_type": "code",
   "execution_count": 1,
   "metadata": {},
   "outputs": [],
   "source": [
    "import pandas as pd\n",
    "import seaborn as sns\n",
    "import matplotlib.pyplot as plt\n",
    "import matplotlib.ticker as tick\n",
    "import plotly\n",
    "import plotly.plotly as py\n",
    "import plotly.figure_factory as ff\n",
    "import plotly.graph_objs as go\n",
    "from plotly.offline import download_plotlyjs, init_notebook_mode, plot, iplot\n",
    "% matplotlib inline"
   ]
  },
  {
   "cell_type": "markdown",
   "metadata": {},
   "source": [
    "## Background \n",
    "Superheroes have always been a part of popular culture. They have been symbolic of their times, influenced by important historic events. Moreover, questions have always been raised about representation in the comic book world especially with respect to diversity. The following analysis seeks to explore some of these oft asked questions and present the evolution of superheroes over time."
   ]
  },
  {
   "cell_type": "markdown",
   "metadata": {},
   "source": [
    "## Table of Contents"
   ]
  },
  {
   "cell_type": "markdown",
   "metadata": {},
   "source": [
    "1. [Reading and Cleaning Data](#Read-and-Clean-the-Data)<br>\n",
    "    1.1 [Read Data](#Read-Data)<br>\n",
    "    1.2 [Format Data](#Data-Cleaning-and-Formatting)<br>\n",
    "2. [Birth Of Superheroes : A Timeline](#Analysis-1-:-Construct-a-Timeline-for-a-Subset-of-Superheroes-to-Visualize-their-Origins-with-Respect-to-Important-Historical-Events.)<br>\n",
    "    2.1 [Graph for the Timeline](#The-Birth-of-Superheroes-:-A-Timeline)<br>\n",
    "3. [Representation of Superhero Characters](#Analysis-2-:-Analyze-Representation-of-Gender-by-Alignment-in-the-Comic-Book-World.)<br>\n",
    "    3.1 [Character Alignment by Gender](#Character-Alignment-by-Gender-in-Marvel)<br>\n",
    "    3.2 [Increasing Diversity among Bad Characters](#Increasing-Diversity-among-Bad-Characters-in-Marvel)<br>\n",
    "4. [Sexual Orientation of Superheroes Over Time](#Analysis-3-:-Analyze-Representation-of-Sexuality-in-the-Comic-Book-World.)<br>\n",
    "    4.1 [Graph for Representation of Minor Sexual Orientations](#Representation-of-Sexual-Minorities)<br> \n",
    "5. [Marvel vs DC Top Grossing Movies](#Analysis-4:-Comparing-Marvel-vs-DC-Top-Grossing-Movies)<br>\n",
    "    5.1 [Comparison Chart for Top Grossing Movies](#Marvel-vs-DC-Movies)<br> "
   ]
  },
  {
   "cell_type": "markdown",
   "metadata": {},
   "source": [
    "## Read and Clean the Data\n",
    "### Datasets being read -  \n",
    "- Marvel_wikia.csv : A dataset containing information about superheroes from Marvel comics\n",
    "- DC_wikia.csv : A dataset containing information about superheroes from DC comics\n",
    "- super_hero_powers.csv : A dataset containing information about powers of superheroes "
   ]
  },
  {
   "cell_type": "markdown",
   "metadata": {},
   "source": [
    "### Read Data"
   ]
  },
  {
   "cell_type": "code",
   "execution_count": 2,
   "metadata": {},
   "outputs": [],
   "source": [
    "df_powers = pd.read_csv('super_hero_powers.csv')\n",
    "df_marvel = pd.read_csv('Marvel_wikia.csv', index_col='Unnamed: 0')\n",
    "df_dc = pd.read_csv('DC_wikia.csv', index_col='Unnamed: 0')"
   ]
  },
  {
   "cell_type": "markdown",
   "metadata": {},
   "source": [
    "### Data Cleaning and Formatting"
   ]
  },
  {
   "cell_type": "markdown",
   "metadata": {},
   "source": [
    "Convert column names of each dataframe to lower case."
   ]
  },
  {
   "cell_type": "code",
   "execution_count": 3,
   "metadata": {},
   "outputs": [],
   "source": [
    "df_powers.columns = map(str.lower, df_powers.columns)\n",
    "df_marvel.columns = map(str.lower, df_marvel.columns)\n",
    "df_dc.columns = map(str.lower, df_dc.columns)"
   ]
  },
  {
   "cell_type": "markdown",
   "metadata": {},
   "source": [
    "Convert superhero names to lowercase\n"
   ]
  },
  {
   "cell_type": "code",
   "execution_count": 4,
   "metadata": {},
   "outputs": [],
   "source": [
    "df_powers['hero_names'] = df_powers['hero_names'].str.lower().str.strip()"
   ]
  },
  {
   "cell_type": "markdown",
   "metadata": {},
   "source": [
    "Calculate total number of powers each superhero has"
   ]
  },
  {
   "cell_type": "code",
   "execution_count": 5,
   "metadata": {},
   "outputs": [],
   "source": [
    "df_powers['sum_powers'] = df_powers.sum(axis=1)"
   ]
  },
  {
   "cell_type": "markdown",
   "metadata": {},
   "source": [
    "Add publisher information for each comic"
   ]
  },
  {
   "cell_type": "code",
   "execution_count": 6,
   "metadata": {},
   "outputs": [],
   "source": [
    "df_marvel['publisher'] = 'marvel'"
   ]
  },
  {
   "cell_type": "code",
   "execution_count": 7,
   "metadata": {},
   "outputs": [],
   "source": [
    "df_dc['publisher'] = 'dc'"
   ]
  },
  {
   "cell_type": "markdown",
   "metadata": {},
   "source": [
    "Concatenate both marvel and dc comics superhero information"
   ]
  },
  {
   "cell_type": "code",
   "execution_count": 8,
   "metadata": {},
   "outputs": [],
   "source": [
    "df_marvel_dc = df_marvel.append(df_dc)"
   ]
  },
  {
   "cell_type": "code",
   "execution_count": 9,
   "metadata": {
    "scrolled": true
   },
   "outputs": [],
   "source": [
    "df_marvel_dc.drop(columns=['page_id', 'urlslug', 'id', 'eye', 'hair', 'alive', 'first appearance'], inplace=True)"
   ]
  },
  {
   "cell_type": "markdown",
   "metadata": {},
   "source": [
    "Superhero names have extra characters within round brackets. Simplify superhero name field."
   ]
  },
  {
   "cell_type": "code",
   "execution_count": 10,
   "metadata": {},
   "outputs": [],
   "source": [
    "df_marvel_dc['name'] = df_marvel_dc['name'].str.replace(r\"\\(.*\\)\",\"\").str.lower().str.replace(r\"W+\",\"\").str.strip()"
   ]
  },
  {
   "cell_type": "markdown",
   "metadata": {},
   "source": [
    "## Analysis"
   ]
  },
  {
   "cell_type": "markdown",
   "metadata": {},
   "source": [
    "### Analysis 1 : Construct a Timeline for a Subset of Superheroes to Visualize their Origins with Respect to Important Historical Events."
   ]
  },
  {
   "cell_type": "markdown",
   "metadata": {},
   "source": [
    "Retrieve rows for specific superheroes "
   ]
  },
  {
   "cell_type": "code",
   "execution_count": 11,
   "metadata": {},
   "outputs": [],
   "source": [
    "df_superhero_origins = df_marvel_dc[(df_marvel_dc['name'] == 'superman') | (df_marvel_dc['name'] == 'captain america')\n",
    "                                    | (df_marvel_dc['name'] == 'flash') | (df_marvel_dc['name'] == 'hulk') \n",
    "                                    | (df_marvel_dc['name'] == 'luke cage') | (df_marvel_dc['name'] == 'frank castle') \n",
    "                                    | (df_marvel_dc['name'] == 'iron man')] \\\n",
    "                                    .sort_values('name').reset_index().drop(columns=['index'])"
   ]
  },
  {
   "cell_type": "markdown",
   "metadata": {},
   "source": [
    "There appear to be multiple instances of the same hero - in this case, because there are multiple universes in which a hero can first appear. Move forward by selecting only the first year a character was introduced."
   ]
  },
  {
   "cell_type": "code",
   "execution_count": 12,
   "metadata": {},
   "outputs": [],
   "source": [
    "df_heroes = df_superhero_origins.iloc[[0, 4, 6, 7, 13, 14, 16]]\n",
    "df_heroes.loc[df_heroes['name'] == 'superman', 'year'] = 1938 # Correct superman's year of origin"
   ]
  },
  {
   "cell_type": "markdown",
   "metadata": {},
   "source": [
    "Create a dataframe for historical events. Leave the last event column blank for visualization purposes."
   ]
  },
  {
   "cell_type": "code",
   "execution_count": 13,
   "metadata": {},
   "outputs": [],
   "source": [
    "events = {'year': [1929, 1939, 1947, 1968, 1969, 1980],\n",
    "'event':['Great depression', 'World war II', 'Cold war', 'Civil rights era', 'Vietnam War', ''],\n",
    "'text':['The great Depression starts', 'World war II begins', 'Cold war begins', 'Civil rights act signed',\n",
    "        'US troop withdrawal from Vietnam begins', '']}\n",
    "df_history = pd.DataFrame(events)"
   ]
  },
  {
   "cell_type": "markdown",
   "metadata": {},
   "source": [
    "#### The Birth of Superheroes : A Timeline"
   ]
  },
  {
   "cell_type": "code",
   "execution_count": 14,
   "metadata": {
    "scrolled": false
   },
   "outputs": [
    {
     "data": {
      "text/html": [
       "<script>requirejs.config({paths: { 'plotly': ['https://cdn.plot.ly/plotly-latest.min']},});if(!window.Plotly) {{require(['plotly'],function(plotly) {window.Plotly=plotly;});}}</script>"
      ],
      "text/vnd.plotly.v1+html": [
       "<script>requirejs.config({paths: { 'plotly': ['https://cdn.plot.ly/plotly-latest.min']},});if(!window.Plotly) {{require(['plotly'],function(plotly) {window.Plotly=plotly;});}}</script>"
      ]
     },
     "metadata": {},
     "output_type": "display_data"
    },
    {
     "data": {
      "application/vnd.plotly.v1+json": {
       "data": [
        {
         "hoverinfo": "none",
         "line": {
          "width": 4
         },
         "mode": "lines",
         "opacity": 1,
         "showlegend": false,
         "text": [
          "The great Depression starts",
          "World war II begins",
          "Cold war begins",
          "Civil rights act signed",
          "US troop withdrawal from Vietnam begins",
          ""
         ],
         "type": "scatter",
         "uid": "8622368c-92aa-11e8-a793-84ef1819d3cb",
         "x": [
          1929,
          1939,
          1947,
          1968,
          1969,
          1980
         ],
         "y": [
          3,
          3,
          3,
          3,
          3,
          3
         ]
        },
        {
         "hoverinfo": "text",
         "opacity": 0,
         "showlegend": false,
         "text": [
          "Superman : 1938",
          "Captain America : 1941",
          "The flash : 1956",
          "The hulk: 1962",
          "Iron man : 1963",
          "Luke Cage : 1972",
          "The punisher : 1974"
         ],
         "type": "scatter",
         "uid": "86225ed4-92aa-11e8-8b59-84ef1819d3cb",
         "x": [
          1938,
          1941,
          1956,
          1962,
          1963,
          1972,
          1974
         ],
         "y": [
          3,
          3,
          3,
          3,
          3,
          3,
          3
         ]
        }
       ],
       "layout": {
        "annotations": [
         {
          "align": "center",
          "arrowwidth": 2,
          "ax": 1,
          "ay": 60,
          "bgcolor": "#fbfcfc",
          "bordercolor": "#c01565",
          "borderpad": 4,
          "borderwidth": 2,
          "font": {
           "color": "#34495e",
           "size": 12
          },
          "opacity": 0.8,
          "text": "1929<br>The great depression",
          "x": 1929,
          "xref": "x",
          "y": 3,
          "yref": "y"
         },
         {
          "align": "center",
          "arrowwidth": 2,
          "ax": 1,
          "ay": 60,
          "bgcolor": "#fbfcfc",
          "bordercolor": "#c01565",
          "borderpad": 4,
          "borderwidth": 2,
          "font": {
           "color": "#34495e",
           "size": 12
          },
          "opacity": 0.8,
          "text": "1939<br>World War II",
          "x": 1939,
          "xref": "x",
          "y": 3,
          "yref": "y"
         },
         {
          "align": "center",
          "arrowwidth": 2,
          "ax": 1,
          "ay": 60,
          "bgcolor": "#fbfcfc",
          "bordercolor": "#c01565",
          "borderpad": 4,
          "borderwidth": 2,
          "font": {
           "color": "#34495e",
           "size": 12
          },
          "opacity": 0.8,
          "text": "1947<br>Cold war begins",
          "x": 1947,
          "xref": "x",
          "y": 3,
          "yref": "y"
         },
         {
          "align": "center",
          "arrowwidth": 2,
          "ax": 1,
          "ay": 60,
          "bgcolor": "#fbfcfc",
          "bordercolor": "#c01565",
          "borderpad": 4,
          "borderwidth": 2,
          "font": {
           "color": "#34495e",
           "size": 12
          },
          "opacity": 0.8,
          "text": "1968<br>Civil rights act signed",
          "x": 1968,
          "xref": "x",
          "y": 3,
          "yref": "y"
         },
         {
          "align": "center",
          "arrowwidth": 2,
          "ax": 1,
          "ay": 110,
          "bgcolor": "#fbfcfc",
          "bordercolor": "#c01565",
          "borderpad": 4,
          "borderwidth": 2,
          "font": {
           "color": "#34495e",
           "size": 12
          },
          "opacity": 0.8,
          "text": "1973<br>US troop withdrawal from<br>Vietnam begins",
          "x": 1973,
          "xref": "x",
          "y": 3,
          "yref": "y"
         }
        ],
        "height": 700,
        "images": [
         {
          "sizex": 2,
          "sizey": 0.35,
          "sizing": "stretch",
          "source": "superman.png",
          "x": 1938,
          "xanchor": "right",
          "xref": "x",
          "y": 3.01,
          "yanchor": "bottom",
          "yref": "y"
         },
         {
          "sizex": 2.5,
          "sizey": 0.27,
          "sizing": "stretch",
          "source": "captain america.png",
          "x": 1941,
          "xanchor": "left",
          "xref": "x",
          "y": 3.05,
          "yanchor": "bottom",
          "yref": "y"
         },
         {
          "sizex": 2.5,
          "sizey": 0.37,
          "sizing": "stretch",
          "source": "flash.png",
          "x": 1956,
          "xanchor": "right",
          "xref": "x",
          "y": 3,
          "yanchor": "bottom",
          "yref": "y"
         },
         {
          "sizex": 2.5,
          "sizey": 0.3,
          "sizing": "stretch",
          "source": "the hulk.png",
          "x": 1962,
          "xanchor": "right",
          "xref": "x",
          "y": 3.05,
          "yanchor": "bottom",
          "yref": "y"
         },
         {
          "sizex": 2.5,
          "sizey": 0.3,
          "sizing": "stretch",
          "source": "ironman.png",
          "x": 1963,
          "xanchor": "left",
          "xref": "x",
          "y": 3.05,
          "yanchor": "bottom",
          "yref": "y"
         },
         {
          "sizex": 2.5,
          "sizey": 0.3,
          "sizing": "stretch",
          "source": "luke cage.png",
          "x": 1972,
          "xanchor": "right",
          "xref": "x",
          "y": 3.05,
          "yanchor": "bottom",
          "yref": "y"
         },
         {
          "sizex": 2.5,
          "sizey": 0.3,
          "sizing": "stretch",
          "source": "punisher.png",
          "x": 1974,
          "xanchor": "left",
          "xref": "x",
          "y": 3.05,
          "yanchor": "bottom",
          "yref": "y"
         }
        ],
        "title": "The Birth of Superheroes : A Timeline",
        "titlefont": {
         "family": "Arial",
         "size": 25
        },
        "width": 1100,
        "xaxis": {
         "linecolor": "#636363",
         "linewidth": 1,
         "mirror": "ticks",
         "showticklabels": true,
         "tickfont": {
          "color": "black",
          "size": 20
         }
        },
        "yaxis": {
         "linecolor": "#636363",
         "linewidth": 1,
         "mirror": "ticks",
         "showticklabels": false,
         "zeroline": true
        }
       }
      },
      "text/html": [
       "<div id=\"90456b32-ba4c-4c9d-8f9d-c5d6450f1349\" style=\"height: 700px; width: 1100px;\" class=\"plotly-graph-div\"></div><script type=\"text/javascript\">require([\"plotly\"], function(Plotly) { window.PLOTLYENV=window.PLOTLYENV || {};window.PLOTLYENV.BASE_URL=\"https://plot.ly\";\n",
       "        Plotly.plot(\n",
       "            '90456b32-ba4c-4c9d-8f9d-c5d6450f1349',\n",
       "            [{\"hoverinfo\": \"none\", \"line\": {\"width\": 4}, \"mode\": \"lines\", \"opacity\": 1, \"showlegend\": false, \"text\": [\"The great Depression starts\", \"World war II begins\", \"Cold war begins\", \"Civil rights act signed\", \"US troop withdrawal from Vietnam begins\", \"\"], \"x\": [1929.0, 1939.0, 1947.0, 1968.0, 1969.0, 1980.0], \"y\": [3, 3, 3, 3, 3, 3], \"type\": \"scatter\", \"uid\": \"8622368c-92aa-11e8-a793-84ef1819d3cb\"}, {\"hoverinfo\": \"text\", \"opacity\": 0, \"showlegend\": false, \"text\": [\"Superman : 1938\", \"Captain America : 1941\", \"The flash : 1956\", \"The hulk: 1962\", \"Iron man : 1963\", \"Luke Cage : 1972\", \"The punisher : 1974\"], \"x\": [1938.0, 1941.0, 1956.0, 1962.0, 1963.0, 1972.0, 1974.0], \"y\": [3, 3, 3, 3, 3, 3, 3], \"type\": \"scatter\", \"uid\": \"86225ed4-92aa-11e8-8b59-84ef1819d3cb\"}],\n",
       "            {\"annotations\": [{\"align\": \"center\", \"arrowwidth\": 2, \"ax\": 1, \"ay\": 60, \"bgcolor\": \"#fbfcfc\", \"bordercolor\": \"#c01565\", \"borderpad\": 4, \"borderwidth\": 2, \"font\": {\"color\": \"#34495e\", \"size\": 12}, \"opacity\": 0.8, \"text\": \"1929<br>The great depression\", \"x\": 1929, \"xref\": \"x\", \"y\": 3, \"yref\": \"y\"}, {\"align\": \"center\", \"arrowwidth\": 2, \"ax\": 1, \"ay\": 60, \"bgcolor\": \"#fbfcfc\", \"bordercolor\": \"#c01565\", \"borderpad\": 4, \"borderwidth\": 2, \"font\": {\"color\": \"#34495e\", \"size\": 12}, \"opacity\": 0.8, \"text\": \"1939<br>World War II\", \"x\": 1939, \"xref\": \"x\", \"y\": 3, \"yref\": \"y\"}, {\"align\": \"center\", \"arrowwidth\": 2, \"ax\": 1, \"ay\": 60, \"bgcolor\": \"#fbfcfc\", \"bordercolor\": \"#c01565\", \"borderpad\": 4, \"borderwidth\": 2, \"font\": {\"color\": \"#34495e\", \"size\": 12}, \"opacity\": 0.8, \"text\": \"1947<br>Cold war begins\", \"x\": 1947, \"xref\": \"x\", \"y\": 3, \"yref\": \"y\"}, {\"align\": \"center\", \"arrowwidth\": 2, \"ax\": 1, \"ay\": 60, \"bgcolor\": \"#fbfcfc\", \"bordercolor\": \"#c01565\", \"borderpad\": 4, \"borderwidth\": 2, \"font\": {\"color\": \"#34495e\", \"size\": 12}, \"opacity\": 0.8, \"text\": \"1968<br>Civil rights act signed\", \"x\": 1968, \"xref\": \"x\", \"y\": 3, \"yref\": \"y\"}, {\"align\": \"center\", \"arrowwidth\": 2, \"ax\": 1, \"ay\": 110, \"bgcolor\": \"#fbfcfc\", \"bordercolor\": \"#c01565\", \"borderpad\": 4, \"borderwidth\": 2, \"font\": {\"color\": \"#34495e\", \"size\": 12}, \"opacity\": 0.8, \"text\": \"1973<br>US troop withdrawal from<br>Vietnam begins\", \"x\": 1973, \"xref\": \"x\", \"y\": 3, \"yref\": \"y\"}], \"height\": 700, \"images\": [{\"sizex\": 2, \"sizey\": 0.35, \"sizing\": \"stretch\", \"source\": \"superman.png\", \"x\": 1938, \"xanchor\": \"right\", \"xref\": \"x\", \"y\": 3.01, \"yanchor\": \"bottom\", \"yref\": \"y\"}, {\"sizex\": 2.5, \"sizey\": 0.27, \"sizing\": \"stretch\", \"source\": \"captain america.png\", \"x\": 1941, \"xanchor\": \"left\", \"xref\": \"x\", \"y\": 3.05, \"yanchor\": \"bottom\", \"yref\": \"y\"}, {\"sizex\": 2.5, \"sizey\": 0.37, \"sizing\": \"stretch\", \"source\": \"flash.png\", \"x\": 1956, \"xanchor\": \"right\", \"xref\": \"x\", \"y\": 3, \"yanchor\": \"bottom\", \"yref\": \"y\"}, {\"sizex\": 2.5, \"sizey\": 0.3, \"sizing\": \"stretch\", \"source\": \"the hulk.png\", \"x\": 1962, \"xanchor\": \"right\", \"xref\": \"x\", \"y\": 3.05, \"yanchor\": \"bottom\", \"yref\": \"y\"}, {\"sizex\": 2.5, \"sizey\": 0.3, \"sizing\": \"stretch\", \"source\": \"ironman.png\", \"x\": 1963, \"xanchor\": \"left\", \"xref\": \"x\", \"y\": 3.05, \"yanchor\": \"bottom\", \"yref\": \"y\"}, {\"sizex\": 2.5, \"sizey\": 0.3, \"sizing\": \"stretch\", \"source\": \"luke cage.png\", \"x\": 1972, \"xanchor\": \"right\", \"xref\": \"x\", \"y\": 3.05, \"yanchor\": \"bottom\", \"yref\": \"y\"}, {\"sizex\": 2.5, \"sizey\": 0.3, \"sizing\": \"stretch\", \"source\": \"punisher.png\", \"x\": 1974, \"xanchor\": \"left\", \"xref\": \"x\", \"y\": 3.05, \"yanchor\": \"bottom\", \"yref\": \"y\"}], \"title\": \"The Birth of Superheroes : A Timeline\", \"titlefont\": {\"family\": \"Arial\", \"size\": 25}, \"width\": 1100, \"xaxis\": {\"linecolor\": \"#636363\", \"linewidth\": 1, \"mirror\": \"ticks\", \"showticklabels\": true, \"tickfont\": {\"color\": \"black\", \"size\": 20}}, \"yaxis\": {\"linecolor\": \"#636363\", \"linewidth\": 1, \"mirror\": \"ticks\", \"showticklabels\": false, \"zeroline\": true}},\n",
       "            {\"showLink\": true, \"linkText\": \"Export to plot.ly\"}\n",
       "        ).then(function () {return Plotly.addFrames('90456b32-ba4c-4c9d-8f9d-c5d6450f1349',{});}).then(function(){Plotly.animate('90456b32-ba4c-4c9d-8f9d-c5d6450f1349');})\n",
       "        });</script>"
      ],
      "text/vnd.plotly.v1+html": [
       "<div id=\"90456b32-ba4c-4c9d-8f9d-c5d6450f1349\" style=\"height: 700px; width: 1100px;\" class=\"plotly-graph-div\"></div><script type=\"text/javascript\">require([\"plotly\"], function(Plotly) { window.PLOTLYENV=window.PLOTLYENV || {};window.PLOTLYENV.BASE_URL=\"https://plot.ly\";\n",
       "        Plotly.plot(\n",
       "            '90456b32-ba4c-4c9d-8f9d-c5d6450f1349',\n",
       "            [{\"hoverinfo\": \"none\", \"line\": {\"width\": 4}, \"mode\": \"lines\", \"opacity\": 1, \"showlegend\": false, \"text\": [\"The great Depression starts\", \"World war II begins\", \"Cold war begins\", \"Civil rights act signed\", \"US troop withdrawal from Vietnam begins\", \"\"], \"x\": [1929.0, 1939.0, 1947.0, 1968.0, 1969.0, 1980.0], \"y\": [3, 3, 3, 3, 3, 3], \"type\": \"scatter\", \"uid\": \"8622368c-92aa-11e8-a793-84ef1819d3cb\"}, {\"hoverinfo\": \"text\", \"opacity\": 0, \"showlegend\": false, \"text\": [\"Superman : 1938\", \"Captain America : 1941\", \"The flash : 1956\", \"The hulk: 1962\", \"Iron man : 1963\", \"Luke Cage : 1972\", \"The punisher : 1974\"], \"x\": [1938.0, 1941.0, 1956.0, 1962.0, 1963.0, 1972.0, 1974.0], \"y\": [3, 3, 3, 3, 3, 3, 3], \"type\": \"scatter\", \"uid\": \"86225ed4-92aa-11e8-8b59-84ef1819d3cb\"}],\n",
       "            {\"annotations\": [{\"align\": \"center\", \"arrowwidth\": 2, \"ax\": 1, \"ay\": 60, \"bgcolor\": \"#fbfcfc\", \"bordercolor\": \"#c01565\", \"borderpad\": 4, \"borderwidth\": 2, \"font\": {\"color\": \"#34495e\", \"size\": 12}, \"opacity\": 0.8, \"text\": \"1929<br>The great depression\", \"x\": 1929, \"xref\": \"x\", \"y\": 3, \"yref\": \"y\"}, {\"align\": \"center\", \"arrowwidth\": 2, \"ax\": 1, \"ay\": 60, \"bgcolor\": \"#fbfcfc\", \"bordercolor\": \"#c01565\", \"borderpad\": 4, \"borderwidth\": 2, \"font\": {\"color\": \"#34495e\", \"size\": 12}, \"opacity\": 0.8, \"text\": \"1939<br>World War II\", \"x\": 1939, \"xref\": \"x\", \"y\": 3, \"yref\": \"y\"}, {\"align\": \"center\", \"arrowwidth\": 2, \"ax\": 1, \"ay\": 60, \"bgcolor\": \"#fbfcfc\", \"bordercolor\": \"#c01565\", \"borderpad\": 4, \"borderwidth\": 2, \"font\": {\"color\": \"#34495e\", \"size\": 12}, \"opacity\": 0.8, \"text\": \"1947<br>Cold war begins\", \"x\": 1947, \"xref\": \"x\", \"y\": 3, \"yref\": \"y\"}, {\"align\": \"center\", \"arrowwidth\": 2, \"ax\": 1, \"ay\": 60, \"bgcolor\": \"#fbfcfc\", \"bordercolor\": \"#c01565\", \"borderpad\": 4, \"borderwidth\": 2, \"font\": {\"color\": \"#34495e\", \"size\": 12}, \"opacity\": 0.8, \"text\": \"1968<br>Civil rights act signed\", \"x\": 1968, \"xref\": \"x\", \"y\": 3, \"yref\": \"y\"}, {\"align\": \"center\", \"arrowwidth\": 2, \"ax\": 1, \"ay\": 110, \"bgcolor\": \"#fbfcfc\", \"bordercolor\": \"#c01565\", \"borderpad\": 4, \"borderwidth\": 2, \"font\": {\"color\": \"#34495e\", \"size\": 12}, \"opacity\": 0.8, \"text\": \"1973<br>US troop withdrawal from<br>Vietnam begins\", \"x\": 1973, \"xref\": \"x\", \"y\": 3, \"yref\": \"y\"}], \"height\": 700, \"images\": [{\"sizex\": 2, \"sizey\": 0.35, \"sizing\": \"stretch\", \"source\": \"superman.png\", \"x\": 1938, \"xanchor\": \"right\", \"xref\": \"x\", \"y\": 3.01, \"yanchor\": \"bottom\", \"yref\": \"y\"}, {\"sizex\": 2.5, \"sizey\": 0.27, \"sizing\": \"stretch\", \"source\": \"captain america.png\", \"x\": 1941, \"xanchor\": \"left\", \"xref\": \"x\", \"y\": 3.05, \"yanchor\": \"bottom\", \"yref\": \"y\"}, {\"sizex\": 2.5, \"sizey\": 0.37, \"sizing\": \"stretch\", \"source\": \"flash.png\", \"x\": 1956, \"xanchor\": \"right\", \"xref\": \"x\", \"y\": 3, \"yanchor\": \"bottom\", \"yref\": \"y\"}, {\"sizex\": 2.5, \"sizey\": 0.3, \"sizing\": \"stretch\", \"source\": \"the hulk.png\", \"x\": 1962, \"xanchor\": \"right\", \"xref\": \"x\", \"y\": 3.05, \"yanchor\": \"bottom\", \"yref\": \"y\"}, {\"sizex\": 2.5, \"sizey\": 0.3, \"sizing\": \"stretch\", \"source\": \"ironman.png\", \"x\": 1963, \"xanchor\": \"left\", \"xref\": \"x\", \"y\": 3.05, \"yanchor\": \"bottom\", \"yref\": \"y\"}, {\"sizex\": 2.5, \"sizey\": 0.3, \"sizing\": \"stretch\", \"source\": \"luke cage.png\", \"x\": 1972, \"xanchor\": \"right\", \"xref\": \"x\", \"y\": 3.05, \"yanchor\": \"bottom\", \"yref\": \"y\"}, {\"sizex\": 2.5, \"sizey\": 0.3, \"sizing\": \"stretch\", \"source\": \"punisher.png\", \"x\": 1974, \"xanchor\": \"left\", \"xref\": \"x\", \"y\": 3.05, \"yanchor\": \"bottom\", \"yref\": \"y\"}], \"title\": \"The Birth of Superheroes : A Timeline\", \"titlefont\": {\"family\": \"Arial\", \"size\": 25}, \"width\": 1100, \"xaxis\": {\"linecolor\": \"#636363\", \"linewidth\": 1, \"mirror\": \"ticks\", \"showticklabels\": true, \"tickfont\": {\"color\": \"black\", \"size\": 20}}, \"yaxis\": {\"linecolor\": \"#636363\", \"linewidth\": 1, \"mirror\": \"ticks\", \"showticklabels\": false, \"zeroline\": true}},\n",
       "            {\"showLink\": true, \"linkText\": \"Export to plot.ly\"}\n",
       "        ).then(function () {return Plotly.addFrames('90456b32-ba4c-4c9d-8f9d-c5d6450f1349',{});}).then(function(){Plotly.animate('90456b32-ba4c-4c9d-8f9d-c5d6450f1349');})\n",
       "        });</script>"
      ]
     },
     "metadata": {},
     "output_type": "display_data"
    }
   ],
   "source": [
    "init_notebook_mode(connected=True)\n",
    "trace1 = go.Scatter(x=df_history.year, y=[3, 3, 3, 3, 3, 3], text=df_history.text, hoverinfo='none', line=dict(width=4), \n",
    "                    mode='lines', opacity=1, showlegend=False)\n",
    "trace2 = go.Scatter(x=df_heroes.year.sort_values(), y=[3, 3, 3, 3, 3, 3, 3],\n",
    "                   text=['Superman : 1938', 'Captain America : 1941', 'The flash : 1956', 'The hulk: 1962',\n",
    "                         'Iron man : 1963', 'Luke Cage : 1972', 'The punisher : 1974' ],\n",
    "                    hoverinfo='text', opacity=0, showlegend=False)\n",
    "layout = go.Layout(\n",
    "    title='The Birth of Superheroes : A Timeline', titlefont=dict(family='Arial', size=25),\n",
    "    width=1100,\n",
    "    height=700,\n",
    "    xaxis=dict(showticklabels=True, tickfont=dict(size=20, color='black'), mirror='ticks', linecolor='#636363',\n",
    "               linewidth=1),\n",
    "    yaxis=dict(showticklabels=False, zeroline=True, mirror='ticks', linecolor='#636363', linewidth=1),\n",
    "    annotations=[\n",
    "        dict(x=1929, y=3, xref='x', yref='y', text='1929<br>The great depression', ax=1, ay=60,\n",
    "                      font=dict(size=12, color='#34495e'), align='center', arrowwidth=2, bordercolor='#c01565',\n",
    "                      borderwidth=2, borderpad=4, bgcolor='#fbfcfc', opacity=0.8),\n",
    "        dict(x=1939, y=3, xref='x', yref='y', text='1939<br>World War II', ax=1, ay=60,\n",
    "                      font=dict(size=12, color='#34495e'), align='center', arrowwidth=2, bordercolor='#c01565',\n",
    "                      borderwidth=2, borderpad=4, bgcolor='#fbfcfc', opacity=0.8),\n",
    "        dict(x=1947, y=3, xref='x', yref='y', text='1947<br>Cold war begins', ax=1, ay=60,\n",
    "                      font=dict(size=12, color='#34495e'), align='center', arrowwidth=2, bordercolor='#c01565',\n",
    "                      borderwidth=2, borderpad=4, bgcolor='#fbfcfc', opacity=0.8),\n",
    "        dict(x=1968, y=3, xref='x', yref='y', text='1968<br>Civil rights act signed', ax=1, ay=60,\n",
    "                      font=dict(size=12, color='#34495e'), align='center', arrowwidth=2, bordercolor='#c01565',\n",
    "                      borderwidth=2, borderpad=4, bgcolor='#fbfcfc', opacity=0.8),\n",
    "        dict(x=1973, y=3, xref='x', yref='y', text='1973<br>US troop withdrawal from<br>Vietnam begins',\n",
    "                      font=dict(size=12, color='#34495e'), align='center', arrowwidth=2, ax=1, ay=110,\n",
    "                      bordercolor='#c01565', borderwidth=2, borderpad=4, bgcolor='#fbfcfc', opacity=0.8)],\n",
    "    \n",
    "    images=[\n",
    "        dict(source=\"superman.png\", xref=\"x\", yref=\"y\", x=1938, y=3.01, sizex=2, sizey=0.35,\n",
    "             sizing=\"stretch\", xanchor=\"right\", yanchor=\"bottom\"),\n",
    "        dict(source=\"captain america.png\",xref=\"x\", yref=\"y\", x=1941, y=3.05, sizex=2.5, sizey=0.27,\n",
    "             sizing=\"stretch\", xanchor=\"left\", yanchor=\"bottom\"),\n",
    "        dict(source=\"flash.png\", xref=\"x\", yref=\"y\", x=1956, y=3, sizex=2.5, sizey=0.37, sizing=\"stretch\",\n",
    "             xanchor=\"right\", yanchor=\"bottom\"),\n",
    "        dict(source=\"the hulk.png\", xref=\"x\", yref=\"y\", x=1962, y=3.05, sizex=2.5, sizey=0.3, sizing=\"stretch\",\n",
    "             xanchor=\"right\", yanchor=\"bottom\"),\n",
    "        dict(source=\"ironman.png\", xref=\"x\", yref=\"y\", x=1963, y=3.05, sizex=2.5, sizey=0.3, sizing=\"stretch\",\n",
    "             xanchor=\"left\", yanchor=\"bottom\"),\n",
    "        dict(source=\"luke cage.png\", xref=\"x\", yref=\"y\", x=1972, y=3.05, sizex=2.5, sizey=0.3, sizing=\"stretch\",\n",
    "             xanchor=\"right\", yanchor=\"bottom\"),\n",
    "        dict(source=\"punisher.png\", xref=\"x\", yref=\"y\", x=1974, y=3.05, sizex=2.5, sizey=0.3, sizing=\"stretch\",\n",
    "             xanchor=\"left\", yanchor=\"bottom\")])       \n",
    "fig = go.Figure(data=[trace1, trace2], layout=layout)\n",
    "plotly.offline.iplot(fig, filename='hero_origins_temp.html')"
   ]
  },
  {
   "cell_type": "markdown",
   "metadata": {},
   "source": [
    "<b> The plot shows how historical events preceed the origins of certain superheroes. These events helped shape the personas of these heroes. </b> \n",
    "- The Great Depression led to the emergence of superheroes and specifically the two most culturally important ones, Superman and Batman. Superman, an alien who grew up in an area most affected by the Great Depression, would fight for the cause of powerless people. As a parallel, Batman is one of the wealthy who played some part in causing the Great Depression. However, he chooses to fight against the corruption he would otherwise benefit from. \n",
    "- Captain America is a product of WW2, a military symbol of all cultural calls of the time - that America act against Nazism, fascism, and communism, with the utmost leadership, strength, and honor.\n",
    "- The Cold War and the ensuing arms race led to the imagination behind superheroes like the Flash, the Hulk and Iron Man. These heroes were either a by-product of experiments gone wrong(in case of the Flash and Hulk) or that of superior technology(Iron Man). \n",
    "- The Civil Rights movement saw the birth of Luke Cage. Also influenced by blaxploitation movies, Luke rebelled against the  establishment and was considered more or less to be an antihero— especially significant following the turmoil of the 1960s and movement itself.\n",
    "- Towards the end of the Vietnam war, troubled superheroes started taking shape. An example was Frank Castle. Tormented by PTSD, which he chooses to hide until his family is murdered, Frank soon turns into the Punisher. He goes on to seek retribution and cleanse the country with the very thing it had endlessly romanticized - bullets, war and death. "
   ]
  },
  {
   "cell_type": "markdown",
   "metadata": {},
   "source": [
    "### Analysis 2 : Analyze Representation of Gender by Alignment in the Comic Book World."
   ]
  },
  {
   "cell_type": "markdown",
   "metadata": {},
   "source": [
    "Generate Decade and Era information for each superhero"
   ]
  },
  {
   "cell_type": "code",
   "execution_count": 15,
   "metadata": {},
   "outputs": [],
   "source": [
    "## create bins for decade\n",
    "df_marvel_dc.loc[(df_marvel_dc['year'] >= 1930) & ((df_marvel_dc['year'] < 1940)), 'decade'] = '1930'\n",
    "df_marvel_dc.loc[(df_marvel_dc['year'] >= 1940) & ((df_marvel_dc['year'] < 1950)), 'decade'] = '1940'\n",
    "df_marvel_dc.loc[(df_marvel_dc['year'] >= 1950) & ((df_marvel_dc['year'] < 1960)), 'decade'] = '1950'\n",
    "df_marvel_dc.loc[(df_marvel_dc['year'] >= 1960) & ((df_marvel_dc['year'] < 1970)), 'decade'] = '1960'\n",
    "df_marvel_dc.loc[(df_marvel_dc['year'] >= 1970) & ((df_marvel_dc['year'] < 1980)), 'decade'] = '1970'\n",
    "df_marvel_dc.loc[(df_marvel_dc['year'] >= 1980) & ((df_marvel_dc['year'] < 1990)), 'decade'] = '1980'\n",
    "df_marvel_dc.loc[(df_marvel_dc['year'] >= 1990) & ((df_marvel_dc['year'] < 2000)), 'decade'] = '1990'\n",
    "df_marvel_dc.loc[(df_marvel_dc['year'] >= 2000) & ((df_marvel_dc['year'] < 2010)), 'decade'] = '2000'\n",
    "df_marvel_dc.loc[(df_marvel_dc['year'] >= 2010) & ((df_marvel_dc['year'] <= 2018)), 'decade'] = '2010'\n",
    "## create bins for era\n",
    "df_marvel_dc.loc[(df_marvel_dc['year'] >= 1930) & ((df_marvel_dc['year'] < 1960)), 'era'] = 'pre 1960s'\n",
    "df_marvel_dc.loc[(df_marvel_dc['year'] >= 1960) & ((df_marvel_dc['year'] < 2000)), 'era'] = 'post 60s to 2000'\n",
    "df_marvel_dc.loc[(df_marvel_dc['year'] >= 2000) & ((df_marvel_dc['year'] <= 2018)), 'era'] = 'post Y2K'"
   ]
  },
  {
   "cell_type": "markdown",
   "metadata": {},
   "source": [
    "How characters align under both DC and Marvel."
   ]
  },
  {
   "cell_type": "code",
   "execution_count": 16,
   "metadata": {},
   "outputs": [
    {
     "data": {
      "text/html": [
       "<div>\n",
       "<style scoped>\n",
       "    .dataframe tbody tr th:only-of-type {\n",
       "        vertical-align: middle;\n",
       "    }\n",
       "\n",
       "    .dataframe tbody tr th {\n",
       "        vertical-align: top;\n",
       "    }\n",
       "\n",
       "    .dataframe thead th {\n",
       "        text-align: right;\n",
       "    }\n",
       "</style>\n",
       "<table border=\"1\" class=\"dataframe\">\n",
       "  <thead>\n",
       "    <tr style=\"text-align: right;\">\n",
       "      <th></th>\n",
       "      <th></th>\n",
       "      <th>name</th>\n",
       "    </tr>\n",
       "    <tr>\n",
       "      <th>publisher</th>\n",
       "      <th>align</th>\n",
       "      <th></th>\n",
       "    </tr>\n",
       "  </thead>\n",
       "  <tbody>\n",
       "    <tr>\n",
       "      <th rowspan=\"4\" valign=\"top\">dc</th>\n",
       "      <th>Bad Characters</th>\n",
       "      <td>2895</td>\n",
       "    </tr>\n",
       "    <tr>\n",
       "      <th>Good Characters</th>\n",
       "      <td>2832</td>\n",
       "    </tr>\n",
       "    <tr>\n",
       "      <th>Neutral Characters</th>\n",
       "      <td>565</td>\n",
       "    </tr>\n",
       "    <tr>\n",
       "      <th>Reformed Criminals</th>\n",
       "      <td>3</td>\n",
       "    </tr>\n",
       "    <tr>\n",
       "      <th rowspan=\"3\" valign=\"top\">marvel</th>\n",
       "      <th>Bad Characters</th>\n",
       "      <td>6720</td>\n",
       "    </tr>\n",
       "    <tr>\n",
       "      <th>Good Characters</th>\n",
       "      <td>4636</td>\n",
       "    </tr>\n",
       "    <tr>\n",
       "      <th>Neutral Characters</th>\n",
       "      <td>2208</td>\n",
       "    </tr>\n",
       "  </tbody>\n",
       "</table>\n",
       "</div>"
      ],
      "text/plain": [
       "                              name\n",
       "publisher align                   \n",
       "dc        Bad Characters      2895\n",
       "          Good Characters     2832\n",
       "          Neutral Characters   565\n",
       "          Reformed Criminals     3\n",
       "marvel    Bad Characters      6720\n",
       "          Good Characters     4636\n",
       "          Neutral Characters  2208"
      ]
     },
     "execution_count": 16,
     "metadata": {},
     "output_type": "execute_result"
    }
   ],
   "source": [
    "df_marvel_dc.groupby(['publisher', 'align'])[['name']].count()"
   ]
  },
  {
   "cell_type": "markdown",
   "metadata": {},
   "source": [
    "Under Marvel Comics, there is a vast difference between various character alignments. Expanding the analysis to explore how this  alignment varies across different genders under Marvel."
   ]
  },
  {
   "cell_type": "markdown",
   "metadata": {},
   "source": [
    "Categorize genders into two, 'Male Characters' and 'Other Genders'."
   ]
  },
  {
   "cell_type": "code",
   "execution_count": 17,
   "metadata": {},
   "outputs": [],
   "source": [
    "df_marvel_dc.loc[df_marvel_dc['sex'] != 'Male Characters', 'sex'] = 'Other Genders'"
   ]
  },
  {
   "cell_type": "code",
   "execution_count": 18,
   "metadata": {},
   "outputs": [],
   "source": [
    "df_only_marvel = df_marvel_dc[df_marvel_dc['publisher'] == 'marvel']"
   ]
  },
  {
   "cell_type": "code",
   "execution_count": 19,
   "metadata": {},
   "outputs": [],
   "source": [
    "def simplify_alignments(alignment):\n",
    "    \"\"\"\n",
    "    Replace alignments with simplified titles \n",
    "    \"\"\"\n",
    "    if alignment == 'Good Characters':\n",
    "        return 'Good'\n",
    "    elif alignment == 'Neutral Characters':\n",
    "        return 'Neutral'\n",
    "    else:\n",
    "        return 'Bad'"
   ]
  },
  {
   "cell_type": "code",
   "execution_count": 20,
   "metadata": {},
   "outputs": [],
   "source": [
    "df_only_marvel['simple_align'] = df_only_marvel['align'].apply(lambda align: simplify_alignments(align))"
   ]
  },
  {
   "cell_type": "markdown",
   "metadata": {},
   "source": [
    "#### Character Alignment by Gender in Marvel"
   ]
  },
  {
   "cell_type": "code",
   "execution_count": 21,
   "metadata": {},
   "outputs": [
    {
     "data": {
      "image/png": "[encoded data removed]",
      "text/plain": [
       "<Figure size 1440x720 with 1 Axes>"
      ]
     },
     "metadata": {},
     "output_type": "display_data"
    }
   ],
   "source": [
    "ytick = [0, 1000, 2000, 3000, 4000, 5000, 6000, 7000]\n",
    "plt.figure(figsize=(20, 10))\n",
    "sns.countplot(x='simple_align', hue='sex', data=df_only_marvel, palette=['#125888', '#F85888'])\n",
    "plt.title(\"Character Alignments by Gender in Marvel\", y=1.02, fontsize=25)\n",
    "plt.xlabel(\"Character Alignment\", labelpad=15, fontsize=25)\n",
    "plt.ylabel(\"Number of Characters\", labelpad=15, fontsize=25)\n",
    "plt.legend(fontsize=15)\n",
    "plt.xticks(fontsize=20)\n",
    "plt.yticks(ytick, fontsize=20)\n",
    "plt.show()"
   ]
  },
  {
   "cell_type": "markdown",
   "metadata": {},
   "source": [
    "#### Bad characters in Marvel comics are mostly male, while the other genders have a more balanced distribution across gender alignment. It would be interesting to further analyze if there is a trend across decades for bad characters."
   ]
  },
  {
   "cell_type": "code",
   "execution_count": 22,
   "metadata": {},
   "outputs": [],
   "source": [
    "df_only_marvel_bad = df_only_marvel.loc[(df_only_marvel['align'] == 'Bad Characters'), ['year', 'decade', 'sex']]\n",
    "df_only_marvel_bad.dropna(inplace=True)"
   ]
  },
  {
   "cell_type": "code",
   "execution_count": 23,
   "metadata": {},
   "outputs": [],
   "source": [
    "df_only_marvel_bad.loc[df_only_marvel_bad['sex'] == 'Male Characters', 'Male'] = 1\n",
    "df_only_marvel_bad.loc[df_only_marvel_bad['sex'] == 'Male Characters', 'Other Genders'] = 0\n",
    "df_only_marvel_bad.loc[df_only_marvel_bad['sex'] == 'Other Genders', 'Other Genders'] = 1\n",
    "df_only_marvel_bad.loc[df_only_marvel_bad['sex'] == 'Other Genders', 'Male'] = 0"
   ]
  },
  {
   "cell_type": "code",
   "execution_count": 24,
   "metadata": {},
   "outputs": [],
   "source": [
    "df_year_stackplot = df_only_marvel_bad.groupby('year')[['Male', 'Other Genders']].sum().reset_index()\n",
    "df_year_stackplot['cumsum_male'] = df_year_stackplot['Male'].cumsum()\n",
    "df_year_stackplot['cumsum_other'] = df_year_stackplot['Other Genders'].cumsum()\n",
    "df_year_stackplot.drop(columns=['Male', 'Other Genders'], inplace=True)\n",
    "df_year_stackplot.set_index('year', inplace=True)\n",
    "df_year_stackplot = df_year_stackplot[['cumsum_other', 'cumsum_male']]"
   ]
  },
  {
   "cell_type": "markdown",
   "metadata": {},
   "source": [
    "#### Increasing Diversity among Bad Characters in Marvel"
   ]
  },
  {
   "cell_type": "code",
   "execution_count": 25,
   "metadata": {},
   "outputs": [
    {
     "data": {
      "image/png": "[encoded data removed]",
      "text/plain": [
       "<Figure size 1296x720 with 1 Axes>"
      ]
     },
     "metadata": {},
     "output_type": "display_data"
    }
   ],
   "source": [
    "df_year_stackplot.plot.area(figsize=(18,10), color=['#F85888', '#125888'], grid=True, zorder=3)\n",
    "plt.grid(zorder=0)\n",
    "plt.title(\"Increasing Diversity among Bad Characters in Marvel\", y=1.05, fontsize=25)\n",
    "plt.xlabel(\"Year\", labelpad=15, fontsize=25)\n",
    "plt.ylabel(\"Cumulative Character Count\", labelpad=15, fontsize=25)\n",
    "plt.legend(labels=['Other Genders', 'Male Characters'], fontsize=15, loc='upper left')\n",
    "plt.xticks(fontsize=20)\n",
    "plt.yticks(fontsize=20)\n",
    "plt.margins(x=0)\n",
    "plt.show()"
   ]
  },
  {
   "cell_type": "markdown",
   "metadata": {},
   "source": [
    "<b>There has been an upward trend in representation of other genders when it comes to negative characters, through the decades.</b><br>\n",
    "The proportion starts improving from the 60s, right around the time when various women centric movements started gaining momentum. While there is an upward trend in diversity, it is still not split around 50-50 like a truly diverse comic book universe would entail. There is no objective reason that male characters ought to make up such a high proportion, so maybe this most accurately represents the stereotypes that men can be the most violent and/or power-hungry. "
   ]
  },
  {
   "cell_type": "markdown",
   "metadata": {},
   "source": [
    "### Analysis 3 : Analyze Representation of Sexuality in the Comic Book World."
   ]
  },
  {
   "cell_type": "code",
   "execution_count": 26,
   "metadata": {},
   "outputs": [],
   "source": [
    "df_sexual_orientation = df_marvel_dc[['decade', 'gsm']]"
   ]
  },
  {
   "cell_type": "code",
   "execution_count": 27,
   "metadata": {},
   "outputs": [],
   "source": [
    "df_sexual_orientation.loc[df_sexual_orientation.gsm.isnull(), 'Straight'] = 1\n",
    "df_sexual_orientation.loc[df_sexual_orientation.Straight != 1, 'Straight'] = 0\n",
    "df_sexual_orientation.loc[df_sexual_orientation.Straight != 1, 'Other'] = 1\n",
    "df_sexual_orientation.loc[df_sexual_orientation.Other != 1, 'Other'] = 0"
   ]
  },
  {
   "cell_type": "code",
   "execution_count": 28,
   "metadata": {},
   "outputs": [],
   "source": [
    "df_orientation_decade_det = df_sexual_orientation.groupby(['decade', 'gsm']).size().reset_index().rename(columns={0:'counts'})\n",
    "decade = []\n",
    "decades = []\n",
    "detail = []\n",
    "details = ['0']\n",
    "for decade in df_orientation_decade_det.decade:\n",
    "    decades.append(decade)\n",
    "decade = sorted(list(set(decades)))\n",
    "for dec in decade:\n",
    "    detail.append(df_orientation_decade_det[df_orientation_decade_det.decade == dec][['gsm', 'counts']].values)\n",
    "for d in detail:\n",
    "    temp = []\n",
    "    for i in range(0, len(d)):\n",
    "        temp.append(d[i][0] + ': ' + str(d[i][1]))\n",
    "    details.append(temp)\n",
    "\n",
    "detail_list = []\n",
    "for det in details:\n",
    "    detail_list.append('<br>'.join(det))\n",
    "detail_list\n",
    "\n",
    "df_orientation_decade = df_sexual_orientation[['decade', 'Other']].groupby('decade').mean().reset_index()\n",
    "mean = df_orientation_decade[df_orientation_decade.decade != 1930]['Other'].values"
   ]
  },
  {
   "cell_type": "markdown",
   "metadata": {},
   "source": [
    "#### Representation of Sexual Minorities"
   ]
  },
  {
   "cell_type": "code",
   "execution_count": 41,
   "metadata": {},
   "outputs": [
    {
     "data": {
      "text/html": [
       "<script>requirejs.config({paths: { 'plotly': ['https://cdn.plot.ly/plotly-latest.min']},});if(!window.Plotly) {{require(['plotly'],function(plotly) {window.Plotly=plotly;});}}</script>"
      ],
      "text/vnd.plotly.v1+html": [
       "<script>requirejs.config({paths: { 'plotly': ['https://cdn.plot.ly/plotly-latest.min']},});if(!window.Plotly) {{require(['plotly'],function(plotly) {window.Plotly=plotly;});}}</script>"
      ]
     },
     "metadata": {},
     "output_type": "display_data"
    },
    {
     "data": {
      "application/vnd.plotly.v1+json": {
       "data": [
        {
         "hoverinfo": "text",
         "line": {
          "width": 4
         },
         "mode": "lines",
         "opacity": 1,
         "showlegend": false,
         "text": [
          "0",
          "Bisexual Characters: 2<br>Homosexual Characters: 3",
          "Homosexual Characters: 1",
          "Bisexual Characters: 2<br>Homosexual Characters: 3",
          "Bisexual Characters: 5<br>Homosexual Characters: 6",
          "Bisexual Characters: 7<br>Homosexual Characters: 23<br>Pansexual Characters: 1",
          "Bisexual Characters: 4<br>Homosexual Characters: 18<br>Transgender Characters: 1<br>Transvestites: 1",
          "Bisexual Characters: 7<br>Genderfluid Characters: 1<br>Homosexual Characters: 46",
          "Bisexual Characters: 2<br>Homosexual Characters: 14<br>Transgender Characters: 1"
         ],
         "type": "scatter",
         "uid": "1b1e781e-92ab-11e8-a569-84ef1819d3cb",
         "x": [
          "1930",
          "1940",
          "1950",
          "1960",
          "1970",
          "1980",
          "1990",
          "2000",
          "2010"
         ],
         "y": [
          0,
          0.002925687536571094,
          0.002364066193853428,
          0.0028425241614553724,
          0.004150943396226415,
          0.007661888284725655,
          0.004391582799634035,
          0.011382799325463743,
          0.011478730587440918
         ]
        }
       ],
       "layout": {
        "margin": {
         "autoexpand": false,
         "l": 100,
         "r": 30,
         "t": 100
        },
        "title": "Representation of Sexual Orientation Minorities over the Decades",
        "titlefont": {
         "family": "Arial",
         "size": 25
        },
        "xaxis": {
         "showticklabels": true,
         "tickfont": {
          "color": "black",
          "size": 20
         },
         "title": "Decades",
         "titlefont": {
          "size": 25
         }
        },
        "yaxis": {
         "showticklabels": true,
         "tickfont": {
          "color": "black",
          "size": 20
         },
         "ticktext": [
          "0",
          "0.2",
          "0.4",
          "0.6",
          "0.8",
          "1.0",
          "1.2"
         ],
         "tickvals": [
          0,
          0.002,
          0.004,
          0.006,
          0.008,
          0.01,
          0.012
         ],
         "title": "Sexual Minorities<br>(%age)",
         "titlefont": {
          "size": 25
         }
        }
       }
      },
      "text/html": [
       "<div id=\"ab818383-48f6-45fd-8fab-8be7a18bf0f4\" style=\"height: 525px; width: 100%;\" class=\"plotly-graph-div\"></div><script type=\"text/javascript\">require([\"plotly\"], function(Plotly) { window.PLOTLYENV=window.PLOTLYENV || {};window.PLOTLYENV.BASE_URL=\"https://plot.ly\";\n",
       "        Plotly.plot(\n",
       "            'ab818383-48f6-45fd-8fab-8be7a18bf0f4',\n",
       "            [{\"hoverinfo\": \"text\", \"line\": {\"width\": 4}, \"mode\": \"lines\", \"opacity\": 1, \"showlegend\": false, \"text\": [\"0\", \"Bisexual Characters: 2<br>Homosexual Characters: 3\", \"Homosexual Characters: 1\", \"Bisexual Characters: 2<br>Homosexual Characters: 3\", \"Bisexual Characters: 5<br>Homosexual Characters: 6\", \"Bisexual Characters: 7<br>Homosexual Characters: 23<br>Pansexual Characters: 1\", \"Bisexual Characters: 4<br>Homosexual Characters: 18<br>Transgender Characters: 1<br>Transvestites: 1\", \"Bisexual Characters: 7<br>Genderfluid Characters: 1<br>Homosexual Characters: 46\", \"Bisexual Characters: 2<br>Homosexual Characters: 14<br>Transgender Characters: 1\"], \"x\": [\"1930\", \"1940\", \"1950\", \"1960\", \"1970\", \"1980\", \"1990\", \"2000\", \"2010\"], \"y\": [0.0, 0.002925687536571094, 0.002364066193853428, 0.0028425241614553724, 0.004150943396226415, 0.007661888284725655, 0.004391582799634035, 0.011382799325463743, 0.011478730587440918], \"type\": \"scatter\", \"uid\": \"1b1e781e-92ab-11e8-a569-84ef1819d3cb\"}],\n",
       "            {\"margin\": {\"autoexpand\": false, \"l\": 100, \"r\": 30, \"t\": 100}, \"title\": \"Representation of Sexual Orientation Minorities over the Decades\", \"titlefont\": {\"family\": \"Arial\", \"size\": 25}, \"xaxis\": {\"showticklabels\": true, \"tickfont\": {\"color\": \"black\", \"size\": 20}, \"title\": \"Decades\", \"titlefont\": {\"size\": 25}}, \"yaxis\": {\"showticklabels\": true, \"tickfont\": {\"color\": \"black\", \"size\": 20}, \"ticktext\": [\"0\", \"0.2\", \"0.4\", \"0.6\", \"0.8\", \"1.0\", \"1.2\"], \"tickvals\": [0, 0.002, 0.004, 0.006, 0.008, 0.01, 0.012], \"title\": \"Sexual Minorities<br>(%age)\", \"titlefont\": {\"size\": 25}}},\n",
       "            {\"showLink\": true, \"linkText\": \"Export to plot.ly\"}\n",
       "        ).then(function () {return Plotly.addFrames('ab818383-48f6-45fd-8fab-8be7a18bf0f4',{});}).then(function(){Plotly.animate('ab818383-48f6-45fd-8fab-8be7a18bf0f4');})\n",
       "        });</script>"
      ],
      "text/vnd.plotly.v1+html": [
       "<div id=\"ab818383-48f6-45fd-8fab-8be7a18bf0f4\" style=\"height: 525px; width: 100%;\" class=\"plotly-graph-div\"></div><script type=\"text/javascript\">require([\"plotly\"], function(Plotly) { window.PLOTLYENV=window.PLOTLYENV || {};window.PLOTLYENV.BASE_URL=\"https://plot.ly\";\n",
       "        Plotly.plot(\n",
       "            'ab818383-48f6-45fd-8fab-8be7a18bf0f4',\n",
       "            [{\"hoverinfo\": \"text\", \"line\": {\"width\": 4}, \"mode\": \"lines\", \"opacity\": 1, \"showlegend\": false, \"text\": [\"0\", \"Bisexual Characters: 2<br>Homosexual Characters: 3\", \"Homosexual Characters: 1\", \"Bisexual Characters: 2<br>Homosexual Characters: 3\", \"Bisexual Characters: 5<br>Homosexual Characters: 6\", \"Bisexual Characters: 7<br>Homosexual Characters: 23<br>Pansexual Characters: 1\", \"Bisexual Characters: 4<br>Homosexual Characters: 18<br>Transgender Characters: 1<br>Transvestites: 1\", \"Bisexual Characters: 7<br>Genderfluid Characters: 1<br>Homosexual Characters: 46\", \"Bisexual Characters: 2<br>Homosexual Characters: 14<br>Transgender Characters: 1\"], \"x\": [\"1930\", \"1940\", \"1950\", \"1960\", \"1970\", \"1980\", \"1990\", \"2000\", \"2010\"], \"y\": [0.0, 0.002925687536571094, 0.002364066193853428, 0.0028425241614553724, 0.004150943396226415, 0.007661888284725655, 0.004391582799634035, 0.011382799325463743, 0.011478730587440918], \"type\": \"scatter\", \"uid\": \"1b1e781e-92ab-11e8-a569-84ef1819d3cb\"}],\n",
       "            {\"margin\": {\"autoexpand\": false, \"l\": 100, \"r\": 30, \"t\": 100}, \"title\": \"Representation of Sexual Orientation Minorities over the Decades\", \"titlefont\": {\"family\": \"Arial\", \"size\": 25}, \"xaxis\": {\"showticklabels\": true, \"tickfont\": {\"color\": \"black\", \"size\": 20}, \"title\": \"Decades\", \"titlefont\": {\"size\": 25}}, \"yaxis\": {\"showticklabels\": true, \"tickfont\": {\"color\": \"black\", \"size\": 20}, \"ticktext\": [\"0\", \"0.2\", \"0.4\", \"0.6\", \"0.8\", \"1.0\", \"1.2\"], \"tickvals\": [0, 0.002, 0.004, 0.006, 0.008, 0.01, 0.012], \"title\": \"Sexual Minorities<br>(%age)\", \"titlefont\": {\"size\": 25}}},\n",
       "            {\"showLink\": true, \"linkText\": \"Export to plot.ly\"}\n",
       "        ).then(function () {return Plotly.addFrames('ab818383-48f6-45fd-8fab-8be7a18bf0f4',{});}).then(function(){Plotly.animate('ab818383-48f6-45fd-8fab-8be7a18bf0f4');})\n",
       "        });</script>"
      ]
     },
     "metadata": {},
     "output_type": "display_data"
    }
   ],
   "source": [
    "init_notebook_mode(connected=True)\n",
    "trace1 = go.Scatter(x=df_orientation_decade.decade, y=df_orientation_decade.Other, line=dict(width=4), \n",
    "                    text=detail_list, hoverinfo='text', mode='lines', opacity=1, showlegend=False)\n",
    "layout1 = go.Layout(\n",
    "        title='Representation of Sexual Orientation Minorities over the Decades', titlefont=dict(family='Arial', size=25),\n",
    "    xaxis=dict(title='Decades', titlefont=dict(size=25), showticklabels=True, tickfont=dict(size=20, color='black')),\n",
    "    yaxis=dict(title='Sexual Minorities<br>(%age)', titlefont=dict(size=25), showticklabels=True, \n",
    "                 tickvals=[0, 0.002, 0.004, 0.006, 0.008, 0.01, 0.012],\n",
    "                 ticktext=['0', '0.2', '0.4', '0.6', '0.8', '1.0', '1.2'],\n",
    "                 tickfont=dict(size=20, color='black')),\n",
    "    margin=dict(autoexpand=False, l=100, r=30, t=100))\n",
    "fig1 = go.Figure(data=[trace1], layout=layout1)\n",
    "plotly.offline.iplot(fig1, filename='sexuality_scatterplot.html')"
   ]
  },
  {
   "cell_type": "markdown",
   "metadata": {},
   "source": [
    "<b>Representation of sexual minorities marginally improves over time but is still abysmally low.</b><br>\n",
    "Representation of sexual minorities has been very low in the comic book world. It marginally improved post the 2000s but is still around only 1%."
   ]
  },
  {
   "cell_type": "markdown",
   "metadata": {},
   "source": [
    "### Analysis 4 : Comparing Marvel v DC Top Grossing Movies"
   ]
  },
  {
   "cell_type": "code",
   "execution_count": 30,
   "metadata": {},
   "outputs": [],
   "source": [
    "marvel_movies = {'Title': ['Avengers: Infinity War', 'The Avengers', 'Avengers: Age of Ultron', 'Black Panther', 'Iron Man 3'],\n",
    "                'Worldwide Gross': [2041080000, 1518810000, 1405400000, 1346550000, 1214810000],\n",
    "                'Company': ['DC', 'DC', 'DC', 'DC', 'DC']}\n",
    "dc_movies = {'Title': ['The Dark Knight Rises', 'The Dark Knight', 'BvS: Dawn of Justice',\n",
    "                       'Wonder Woman', 'Suicide Squad'], \n",
    "            'Worldwide Gross': [1084940000, 1004560000, 873630000, 821850000, 746850000],\n",
    "            'Company': ['Marvel', 'Marvel', 'Marvel', 'Marvel', 'Marvel']}"
   ]
  },
  {
   "cell_type": "code",
   "execution_count": 31,
   "metadata": {},
   "outputs": [],
   "source": [
    "df_marvel_movies = pd.DataFrame(data=marvel_movies).infer_objects()\n",
    "df_dc_movies = pd.DataFrame(data=dc_movies).sort_values('Worldwide Gross', ascending=True).infer_objects()"
   ]
  },
  {
   "cell_type": "code",
   "execution_count": 32,
   "metadata": {},
   "outputs": [],
   "source": [
    "def x_fmt(tick_val, pos):\n",
    "    if tick_val == 1000000000:\n",
    "        return '1 B'\n",
    "    elif tick_val == 2000000000:\n",
    "        return '2 B'\n",
    "    elif tick_val == 1500000000:\n",
    "        return '1.5 B'\n",
    "    elif tick_val == 0:\n",
    "        return '0'\n",
    "    elif tick_val > 1000000000:\n",
    "        val = int(tick_val) / 1000000000\n",
    "        return '{:.2f} B'.format(val)\n",
    "    else:\n",
    "        val = int(int(tick_val) / 1000000)\n",
    "        return '{:d} M'.format(val)"
   ]
  },
  {
   "cell_type": "markdown",
   "metadata": {},
   "source": [
    "#### Marvel vs DC Movies"
   ]
  },
  {
   "cell_type": "code",
   "execution_count": 33,
   "metadata": {},
   "outputs": [
    {
     "data": {
      "image/png": "[encoded data removed]",
      "text/plain": [
       "<Figure size 1440x720 with 1 Axes>"
      ]
     },
     "metadata": {},
     "output_type": "display_data"
    }
   ],
   "source": [
    "fig, ax = plt.subplots(figsize=(20,10))\n",
    "plt.title('Marvel vs DC Movies: Top Gross Earnings', size=40, y=1.05)\n",
    "red_color = ['#0078F0']\n",
    "blue_color = ['#F0141E']\n",
    "plot1 = plt.barh('Title', 'Worldwide Gross', data=df_dc_movies, color=red_color, align='center', zorder=3, label='DC')\n",
    "plot2 = plt.barh('Title', 'Worldwide Gross', data=df_marvel_movies, color=blue_color, align='center', zorder=3, label='Marvel')\n",
    "ax.xaxis.set_major_formatter(tick.FuncFormatter(x_fmt))\n",
    "plt.legend(handles=[plot2, plot1], loc=0, fontsize=25)\n",
    "ax.set_xlabel('Gross Earnings', size=30, labelpad=15)\n",
    "ax.set_ylabel('Movies', size=30, labelpad=15)\n",
    "plt.xticks(size=20)\n",
    "plt.yticks(size=20)\n",
    "plt.grid(zorder=0)\n",
    "plt.show()"
   ]
  },
  {
   "cell_type": "markdown",
   "metadata": {},
   "source": [
    "### Overall Marvel movies have vastly outperformed movies based on DC comics. In fact the 5th highest grossing Marvel movie has made more money than the highest grossing DC movie!"
   ]
  }
 ],
 "metadata": {
  "kernelspec": {
   "display_name": "Python 3",
   "language": "python",
   "name": "python3"
  },
  "language_info": {
   "codemirror_mode": {
    "name": "ipython",
    "version": 3
   },
   "file_extension": ".py",
   "mimetype": "text/x-python",
   "name": "python",
   "nbconvert_exporter": "python",
   "pygments_lexer": "ipython3",
   "version": "3.6.5"
  }
 },
 "nbformat": 4,
 "nbformat_minor": 2
}
